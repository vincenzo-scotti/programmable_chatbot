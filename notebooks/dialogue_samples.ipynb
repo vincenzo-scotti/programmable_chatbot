{
 "cells": [
  {
   "cell_type": "markdown",
   "metadata": {
    "pycharm": {
     "name": "#%% md\n"
    },
    "tags": []
   },
   "source": [
    "# Evaluation"
   ]
  },
  {
   "cell_type": "markdown",
   "metadata": {},
   "source": [
    "## Preliminaries"
   ]
  },
  {
   "cell_type": "markdown",
   "metadata": {},
   "source": [
    "### Imports"
   ]
  },
  {
   "cell_type": "code",
   "execution_count": 1,
   "metadata": {
    "collapsed": false,
    "jupyter": {
     "outputs_hidden": false
    },
    "pycharm": {
     "name": "#%%\n"
    }
   },
   "outputs": [],
   "source": [
    "import sys\n",
    "import os\n",
    "sys.path.append('./src')"
   ]
  },
  {
   "cell_type": "code",
   "execution_count": 2,
   "metadata": {
    "collapsed": false,
    "jupyter": {
     "outputs_hidden": false
    },
    "pycharm": {
     "name": "#%%\n"
    }
   },
   "outputs": [],
   "source": [
    "import pandas as pd"
   ]
  },
  {
   "cell_type": "code",
   "execution_count": 3,
   "metadata": {
    "collapsed": false,
    "jupyter": {
     "outputs_hidden": false
    },
    "pycharm": {
     "name": "#%%\n"
    }
   },
   "outputs": [],
   "source": [
    "from programmable_chatbot.data.corpora import HOPE, IEMOCAP\n",
    "from programmable_chatbot.chatbot_api import Chatbot"
   ]
  },
  {
   "cell_type": "code",
   "execution_count": 4,
   "metadata": {
    "collapsed": false,
    "jupyter": {
     "outputs_hidden": false
    },
    "pycharm": {
     "name": "#%%\n"
    }
   },
   "outputs": [],
   "source": [
    "import numpy as np"
   ]
  },
  {
   "cell_type": "code",
   "execution_count": 5,
   "metadata": {
    "collapsed": false,
    "jupyter": {
     "outputs_hidden": false
    },
    "pycharm": {
     "name": "#%%\n"
    }
   },
   "outputs": [],
   "source": [
    "import torch"
   ]
  },
  {
   "cell_type": "code",
   "execution_count": 6,
   "metadata": {
    "collapsed": false,
    "jupyter": {
     "outputs_hidden": false
    },
    "pycharm": {
     "name": "#%%\n"
    }
   },
   "outputs": [],
   "source": [
    "import random"
   ]
  },
  {
   "cell_type": "markdown",
   "metadata": {
    "pycharm": {
     "name": "#%% md\n"
    }
   },
   "source": [
    "### Constants"
   ]
  },
  {
   "cell_type": "code",
   "execution_count": 7,
   "metadata": {
    "collapsed": false,
    "jupyter": {
     "outputs_hidden": false
    },
    "pycharm": {
     "name": "#%%\n"
    }
   },
   "outputs": [],
   "source": [
    "DATA_PATH = '../resources/data/cache'"
   ]
  },
  {
   "cell_type": "code",
   "execution_count": 8,
   "metadata": {
    "collapsed": false,
    "jupyter": {
     "outputs_hidden": false
    },
    "pycharm": {
     "name": "#%%\n"
    }
   },
   "outputs": [],
   "source": [
    "TOKENIZER = 'gpt2'\n",
    "MODEL_PATH = '../experiments/PROGCHAT/gpt2_large_2023_01_06_12_19_33/model/best_checkpoint'"
   ]
  },
  {
   "cell_type": "code",
   "execution_count": 9,
   "metadata": {
    "collapsed": false,
    "jupyter": {
     "outputs_hidden": false
    },
    "pycharm": {
     "name": "#%%\n"
    }
   },
   "outputs": [],
   "source": [
    "OUT_DF_COLUMNS = ['Split', 'Corpus', 'Conversation ID', 'Turn IDX', 'Speaker', 'Context', 'Last message', 'Response', 'Model']"
   ]
  },
  {
   "cell_type": "code",
   "execution_count": 30,
   "metadata": {
    "collapsed": false,
    "jupyter": {
     "outputs_hidden": false
    },
    "pycharm": {
     "name": "#%%\n"
    }
   },
   "outputs": [],
   "source": [
    "GENERATE_KWARGS = {\n",
    "    'top_p': 0.9, 'top_k': 0, 'temperature': 1.0, 'do_sample': True, 'max_new_tokens': 128\n",
    "}"
   ]
  },
  {
   "cell_type": "code",
   "execution_count": 21,
   "metadata": {
    "collapsed": false,
    "jupyter": {
     "outputs_hidden": false
    },
    "pycharm": {
     "name": "#%%\n"
    }
   },
   "outputs": [],
   "source": [
    "N_SAMPLES = 100"
   ]
  },
  {
   "cell_type": "code",
   "execution_count": 22,
   "metadata": {
    "collapsed": false,
    "jupyter": {
     "outputs_hidden": false
    },
    "pycharm": {
     "name": "#%%\n"
    }
   },
   "outputs": [],
   "source": [
    "RANDOM_SEED = 2307"
   ]
  },
  {
   "cell_type": "markdown",
   "metadata": {
    "pycharm": {
     "name": "#%% md\n"
    }
   },
   "source": [
    "### Helper functions"
   ]
  },
  {
   "cell_type": "code",
   "execution_count": 23,
   "metadata": {
    "collapsed": false,
    "jupyter": {
     "outputs_hidden": false
    },
    "pycharm": {
     "name": "#%%\n"
    }
   },
   "outputs": [],
   "source": [
    "def find_prompt(prompts, tgt):\n",
    "    for p in prompts:\n",
    "        if tgt in p:\n",
    "            return p\n",
    "    return -1"
   ]
  },
  {
   "cell_type": "markdown",
   "metadata": {},
   "source": [
    "### Model and tokenizer"
   ]
  },
  {
   "cell_type": "code",
   "execution_count": 24,
   "metadata": {
    "collapsed": false,
    "jupyter": {
     "outputs_hidden": false
    },
    "pycharm": {
     "name": "#%%\n"
    }
   },
   "outputs": [],
   "source": [
    "chatbot = Chatbot(\n",
    "    MODEL_PATH,\n",
    "    TOKENIZER\n",
    ")"
   ]
  },
  {
   "cell_type": "markdown",
   "metadata": {},
   "source": [
    "### Random seed"
   ]
  },
  {
   "cell_type": "code",
   "execution_count": 25,
   "metadata": {
    "collapsed": false,
    "jupyter": {
     "outputs_hidden": false
    },
    "pycharm": {
     "name": "#%%\n"
    }
   },
   "outputs": [
    {
     "data": {
      "text/plain": [
       "<torch._C.Generator at 0x7f8402ce87d0>"
      ]
     },
     "execution_count": 25,
     "metadata": {},
     "output_type": "execute_result"
    }
   ],
   "source": [
    "random.seed(RANDOM_SEED)\n",
    "np.random.seed(RANDOM_SEED)\n",
    "torch.manual_seed(RANDOM_SEED)"
   ]
  },
  {
   "cell_type": "markdown",
   "metadata": {
    "pycharm": {
     "name": "#%% md\n"
    }
   },
   "source": [
    "## Data"
   ]
  },
  {
   "cell_type": "markdown",
   "metadata": {
    "pycharm": {
     "name": "#%% md\n"
    }
   },
   "source": [
    "### Load data"
   ]
  },
  {
   "cell_type": "code",
   "execution_count": 31,
   "metadata": {
    "collapsed": false,
    "jupyter": {
     "outputs_hidden": false
    },
    "pycharm": {
     "name": "#%%\n"
    }
   },
   "outputs": [],
   "source": [
    "hope = HOPE(\n",
    "    '../resources/data/raw/HOPE_WSDM_2022',\n",
    "    'test',\n",
    "    chatbot.tokenizer,\n",
    "    max_chunk_turns=8,\n",
    "    max_context_turns=3,\n",
    "    min_turns=3,\n",
    "    sample=10\n",
    ")\n",
    "data_hope = hope.get_data_for_evaluation()\n",
    "\n",
    "iemocap = IEMOCAP(\n",
    "    '../resources/data/raw/IEMOCAP_full_release',\n",
    "    'test',\n",
    "    chatbot.tokenizer,\n",
    "    max_chunk_turns=8,\n",
    "    max_context_turns=3,\n",
    "    min_turns=3,\n",
    "    sample=10\n",
    ")\n",
    "data_iemocap = iemocap.get_data_for_evaluation()"
   ]
  },
  {
   "cell_type": "markdown",
   "metadata": {
    "pycharm": {
     "name": "#%% md\n"
    }
   },
   "source": [
    "### Randomly sample conversations"
   ]
  },
  {
   "cell_type": "code",
   "execution_count": 32,
   "metadata": {
    "collapsed": false,
    "jupyter": {
     "outputs_hidden": false
    },
    "pycharm": {
     "name": "#%%\n"
    }
   },
   "outputs": [],
   "source": [
    "eval_data = {\n",
    "    'HOPE': random.choice(data_hope['discriminator']['local']['dialogue_act']['infilling']),\n",
    "    'IEMOCAP': random.choice(data_iemocap['discriminator']['local']['emotion']['infilling'])\n",
    "}"
   ]
  },
  {
   "cell_type": "markdown",
   "metadata": {
    "pycharm": {
     "name": "#%% md\n"
    }
   },
   "source": [
    "## Evaluation data preparation"
   ]
  },
  {
   "cell_type": "markdown",
   "metadata": {
    "pycharm": {
     "name": "#%% md\n"
    }
   },
   "source": [
    "### Responses generation\n"
   ]
  },
  {
   "cell_type": "code",
   "execution_count": 33,
   "metadata": {
    "collapsed": false,
    "jupyter": {
     "outputs_hidden": false
    },
    "pycharm": {
     "name": "#%%\n"
    }
   },
   "outputs": [
    {
     "name": "stderr",
     "output_type": "stream",
     "text": [
      "The attention mask and the pad token id were not set. As a consequence, you may observe unexpected behavior. Please pass your input's `attention_mask` to obtain reliable results.\n",
      "Setting `pad_token_id` to `eos_token_id`:50256 for open-end generation.\n",
      "The attention mask and the pad token id were not set. As a consequence, you may observe unexpected behavior. Please pass your input's `attention_mask` to obtain reliable results.\n",
      "Setting `pad_token_id` to `eos_token_id`:50256 for open-end generation.\n",
      "The attention mask and the pad token id were not set. As a consequence, you may observe unexpected behavior. Please pass your input's `attention_mask` to obtain reliable results.\n",
      "Setting `pad_token_id` to `eos_token_id`:50256 for open-end generation.\n",
      "The attention mask and the pad token id were not set. As a consequence, you may observe unexpected behavior. Please pass your input's `attention_mask` to obtain reliable results.\n",
      "Setting `pad_token_id` to `eos_token_id`:50256 for open-end generation.\n",
      "The attention mask and the pad token id were not set. As a consequence, you may observe unexpected behavior. Please pass your input's `attention_mask` to obtain reliable results.\n",
      "Setting `pad_token_id` to `eos_token_id`:50256 for open-end generation.\n",
      "The attention mask and the pad token id were not set. As a consequence, you may observe unexpected behavior. Please pass your input's `attention_mask` to obtain reliable results.\n",
      "Setting `pad_token_id` to `eos_token_id`:50256 for open-end generation.\n",
      "The attention mask and the pad token id were not set. As a consequence, you may observe unexpected behavior. Please pass your input's `attention_mask` to obtain reliable results.\n",
      "Setting `pad_token_id` to `eos_token_id`:50256 for open-end generation.\n",
      "The attention mask and the pad token id were not set. As a consequence, you may observe unexpected behavior. Please pass your input's `attention_mask` to obtain reliable results.\n",
      "Setting `pad_token_id` to `eos_token_id`:50256 for open-end generation.\n",
      "The attention mask and the pad token id were not set. As a consequence, you may observe unexpected behavior. Please pass your input's `attention_mask` to obtain reliable results.\n",
      "Setting `pad_token_id` to `eos_token_id`:50256 for open-end generation.\n",
      "The attention mask and the pad token id were not set. As a consequence, you may observe unexpected behavior. Please pass your input's `attention_mask` to obtain reliable results.\n",
      "Setting `pad_token_id` to `eos_token_id`:50256 for open-end generation.\n",
      "The attention mask and the pad token id were not set. As a consequence, you may observe unexpected behavior. Please pass your input's `attention_mask` to obtain reliable results.\n",
      "Setting `pad_token_id` to `eos_token_id`:50256 for open-end generation.\n",
      "The attention mask and the pad token id were not set. As a consequence, you may observe unexpected behavior. Please pass your input's `attention_mask` to obtain reliable results.\n",
      "Setting `pad_token_id` to `eos_token_id`:50256 for open-end generation.\n",
      "The attention mask and the pad token id were not set. As a consequence, you may observe unexpected behavior. Please pass your input's `attention_mask` to obtain reliable results.\n",
      "Setting `pad_token_id` to `eos_token_id`:50256 for open-end generation.\n",
      "The attention mask and the pad token id were not set. As a consequence, you may observe unexpected behavior. Please pass your input's `attention_mask` to obtain reliable results.\n",
      "Setting `pad_token_id` to `eos_token_id`:50256 for open-end generation.\n",
      "The attention mask and the pad token id were not set. As a consequence, you may observe unexpected behavior. Please pass your input's `attention_mask` to obtain reliable results.\n",
      "Setting `pad_token_id` to `eos_token_id`:50256 for open-end generation.\n",
      "The attention mask and the pad token id were not set. As a consequence, you may observe unexpected behavior. Please pass your input's `attention_mask` to obtain reliable results.\n",
      "Setting `pad_token_id` to `eos_token_id`:50256 for open-end generation.\n",
      "The attention mask and the pad token id were not set. As a consequence, you may observe unexpected behavior. Please pass your input's `attention_mask` to obtain reliable results.\n",
      "Setting `pad_token_id` to `eos_token_id`:50256 for open-end generation.\n",
      "The attention mask and the pad token id were not set. As a consequence, you may observe unexpected behavior. Please pass your input's `attention_mask` to obtain reliable results.\n",
      "Setting `pad_token_id` to `eos_token_id`:50256 for open-end generation.\n",
      "The attention mask and the pad token id were not set. As a consequence, you may observe unexpected behavior. Please pass your input's `attention_mask` to obtain reliable results.\n",
      "Setting `pad_token_id` to `eos_token_id`:50256 for open-end generation.\n",
      "The attention mask and the pad token id were not set. As a consequence, you may observe unexpected behavior. Please pass your input's `attention_mask` to obtain reliable results.\n",
      "Setting `pad_token_id` to `eos_token_id`:50256 for open-end generation.\n",
      "The attention mask and the pad token id were not set. As a consequence, you may observe unexpected behavior. Please pass your input's `attention_mask` to obtain reliable results.\n",
      "Setting `pad_token_id` to `eos_token_id`:50256 for open-end generation.\n",
      "The attention mask and the pad token id were not set. As a consequence, you may observe unexpected behavior. Please pass your input's `attention_mask` to obtain reliable results.\n",
      "Setting `pad_token_id` to `eos_token_id`:50256 for open-end generation.\n"
     ]
    }
   ],
   "source": [
    "out_data = []\n",
    "\n",
    "for corpus, sample in eval_data.items():\n",
    "    idx = random.choice(range(len(sample['utterances'])))\n",
    "    task = sample['task_description']\n",
    "\n",
    "    response = f'{find_prompt(sample[\"utterances\"][idx][\"prompts\"], sample[\"utterances\"][idx][\"target\"])}{sample[\"utterances\"][idx][\"text\"]}'\n",
    "\n",
    "    context = [\n",
    "        f'{find_prompt(utterance[\"prompts\"], utterance[\"target\"])}{utterance[\"text\"]}' for utterance in sample['utterances'][:idx]\n",
    "    ]\n",
    "\n",
    "    responses = []\n",
    "\n",
    "    for prompt in sample[\"utterances\"][idx][\"prompts\"]:\n",
    "        responses.append((prompt, chatbot.generate(\n",
    "            context,\n",
    "            prompt=prompt,\n",
    "            task_description=task,\n",
    "            **GENERATE_KWARGS\n",
    "        )))\n",
    "\n",
    "    out_data.append((corpus, context, response, responses))"
   ]
  },
  {
   "cell_type": "code",
   "execution_count": 34,
   "metadata": {},
   "outputs": [
    {
     "data": {
      "text/plain": [
       "[('HOPE',\n",
       "  [\"Therapist [dialogue act: information delivery]: Alright, so let's see if we could just talk about the moment of the presentation again. I want to try to help you develop some strategies to bring those anxiety symptoms down.\\n\",\n",
       "   'Patient [dialogue act: acknowledgement]: Okay, right.\\n',\n",
       "   \"Therapist [dialogue act: information delivery]: Let's actually go right before the moment so you're still in the, you're still sitting down, and you're getting ready to present. Let's just say your second present. Yeah, like we've talked about and you're thinking they're going to seeming as anxious. They're gonna think I don't belong here. These are the right. Okay. So these thoughts occur because you have an expectation rule one add to that you brought into that class, when you walked into that class, you have these expectations already. It's perfectly natural. It's not right or wrong. Everyone has these beliefs. And whenever these beliefs are and we'll talk about that another point, they combined with the stressor of having this presentation in front of you, right, and the classmates watching you, and they result in these thoughts. We call them automatic thoughts,\\n\",\n",
       "   'Patient [dialogue act: acknowledgement]: okay\\n',\n",
       "   \"Therapist [dialogue act: information delivery]: And just like the beliefs, they're not good or bad. They don't say anything about the person having them. They're just thoughts. Actually, they're fairly understandable and natural thoughts. The problem is that they lead to symptoms. So, you're sitting there at your desk, and you're thinking, they're gonna see that I'm anxious. They're gonna realize I'm not good enough. I think I'm not good enough, right? What reaction Do you have when you have that far?\\n\",\n",
       "   \"Patient [dialogue act: information delivery]: I guess I'm like very observant, like I started looking around, like, I'm sweating. Like I'm having physical responses, and I'm looking around to see if anyone's already looking at me, like hyper vigilance.\\n\",\n",
       "   'Therapist [dialogue act: information delivery]: so distressing symptoms.\\n',\n",
       "   'Patient [dialogue act: acknowledgement]: Yeah.\\n',\n",
       "   \"Therapist [dialogue act: information request]: What's something that you could send yourself in that moment, that would maybe get in between that thought, and that reaction, so that thought of, I'm not gonna know I'm not good enough. I think I'm not good enough. And that reaction\\n\",\n",
       "   \"Patient [dialogue act: information delivery]: I mean, I think in that moment, most people are looking at the person who's presenting and not at me. And so that, you know, I can maybe like, take some deep breaths or try to calm myself down. Maybe like look over my notes one more time. Because they're all watching the person who is presenting not me.\\n\",\n",
       "   \"Therapist [dialogue act: information delivery]: Okay. So some some deep breathing, looking over your notes, like preparing yourself for kind of focusing on that and realizing they're not really looking at you anyway for a moment. Okay, good. Good. Um, you bring your notes with you to class?\\n\",\n",
       "   \"Patient [dialogue act: information delivery]: I mean, like usually have like index cards, or maybe like some stats on something that I want to look over like some numbers or something I don't want to forget.\\n\"],\n",
       "  'Therapist [dialogue act: yes/no question]: Okay. So You always have those with you.\\n',\n",
       "  [('Therapist [dialogue act: clarification request]:',\n",
       "    \"Okay, so you write down all these thoughts, that you're having. Do you ever notice yourself getting physically ill? Like shake or anything like that?\"),\n",
       "   ('Therapist [dialogue act: opinion request]:',\n",
       "    \"Okay. So then kind of stepping away from that moment to take a look at the actual presentation. So some deep breaths, taking a look at the presentation, kind of assessing, okay, the anxiety level of your present, and then preparing your notes. Okay. You prepare them, you kind of breathe, and you kind of think about the anxiety level, like are you holding back? And how confident are you of your ability to present a confident way that can kind of give the impression that you're presentable? Okay, good. So you make the presentation. Is it a thought you have about your ability to present that you'll\"),\n",
       "   ('Therapist [dialogue act: information request]:',\n",
       "    \"So those thoughts that're starting to occur because of those expectations, are probably similar to those thoughts you're having right now in the classroom. So all right, so that's some core beliefs there. What about the automatic thoughts? And how would you tell me about those?\"),\n",
       "   ('Therapist [dialogue act: yes/no question]:',\n",
       "    \"All right. All right. Do you think you've already forgotten some stuff?\"),\n",
       "   ('Therapist [dialogue act: greeting]:',\n",
       "    \"Yeah, great. All right. Well, good luck. And I appreciate you spending this time with me. I'm going to bring in the notes at a later time. I appreciate you spending the time with me. And we'll pick them up again, and get you ready for next week.\"),\n",
       "   ('Therapist [dialogue act: acknowledgement]:',\n",
       "    \"That's good. That helps you calm yourself down.\"),\n",
       "   ('Therapist [dialogue act: general chat]:',\n",
       "    \"Right. So that's, that's a good idea because it kind of keeps you on track. But you have some distressing thoughts still. So you'll take a step back and notice what's happening. See what's going on. Then, and then look at it and see if it's your thought. If it's not, and you can see if you can change it. So, like if I'm not focusing on that, then I'll go,\"),\n",
       "   ('Therapist [dialogue act: information delivery]:',\n",
       "    \"Yeah, you try to be as organized as you can to try to make sure you're doing all of this, but sometimes even that can cause this panic anxiety.\"),\n",
       "   ('Therapist [dialogue act: clarification delivery]:',\n",
       "    \"Okay. And in class, like you mentioned before, just thinking about it, and so you're trying to, you're trying to prepare yourself for your presentation. But as you're thinking about it, it's it's like you're getting that distressing thought, the anxiety, that you're about to give a presentation, and it's like, okay, well, that's going to prepare you for it. But as you're thinking about it, it's, you know, it's starting to freak you out a little bit.\"),\n",
       "   ('Therapist [dialogue act: opinion delivery]:',\n",
       "    \"So if you, if you were to take those things home and you wanted to kind of summarize what you learned in class, that's something that you could do. Right? It's a big topic and you'll probably have many papers. So if you're really good at summarizing and putting those things away, you'll probably have many papers because you cover so many topics. So that can be something you could do to help yourself. It won't replace your presentation or anything like that. But that would be something that you could do to help you to be able to,\"),\n",
       "   ('Therapist [dialogue act: positive answer]:', 'That makes sense.'),\n",
       "   ('Therapist [dialogue act: negative answer]:',\n",
       "    \"And you don't have this item.\")]),\n",
       " ('IEMOCAP',\n",
       "  ['Speaker A [emotion: anger]: Next.\\n',\n",
       "   'Speaker B [emotion: frustration]: Yes, me. Okay, okay here we go.\\n',\n",
       "   'Speaker A [emotion: anger]: My window is open.\\n',\n",
       "   'Speaker B [emotion: frustration]: Okay, so filled out all these forms --\\n',\n",
       "   'Speaker A [emotion: neutral state]: This is... Your last- Your first name is Jones?\\n',\n",
       "   'Speaker B [emotion: frustration]: and I have This form of ID here so...\\n',\n",
       "   'Speaker A [emotion: neutral state]: Yes, Jones.\\n',\n",
       "   \"Speaker B [emotion: neutral state]: That's just strange I figured you filled in wrong sections.\\n\",\n",
       "   'Speaker A [emotion: neutral state]: Well...\\n',\n",
       "   \"Speaker B [emotion: frustration]: What are you... what's.. . What are you applying for?\\n\",\n",
       "   \"Speaker A [emotion: frustration]: I'm just applying for another ID.\\n\",\n",
       "   'Speaker B [emotion: neutral state]: Another ID?\\n',\n",
       "   \"Speaker A [emotion: frustration]: Yes. I'm supposed to have three forms of ID for this. It's a long story, I'm supposed to have three forms of ID for this other job I really don't get into but I need another...\\n\",\n",
       "   'Speaker B [emotion: neutral state]: Fine. So I need ID.\\n',\n",
       "   'Speaker A [emotion: frustration]: I have it right here, yes.\\n',\n",
       "   'Speaker B [emotion: anger]: No, I need your ID to give you a second ID.\\n',\n",
       "   \"Speaker A [emotion: anger]: It's really simple if you have a problem with it... Maybe you should--\\n\",\n",
       "   \"Speaker B [emotion: frustration]: But that's...\\n\",\n",
       "   \"Speaker A [emotion: frustration]: That's why I'm here, that's why I was waiting in this line. I need to get another form of ID.\\n\",\n",
       "   'Speaker B [emotion: neutral state]: Well, do you have your passport?\\n',\n",
       "   \"Speaker A [emotion: neutral state]: No, I don't have a passport.\\n\",\n",
       "   'Speaker B [emotion: frustration]: You have a birth certificate?\\n',\n",
       "   \"Speaker A [emotion: frustration]: I don't where it is though, I don't have with me. Can I get it from somewhere? I mean...\\n\",\n",
       "   'Speaker B [emotion: anger]: What do you expect me to do?\\n',\n",
       "   \"Speaker A [emotion: frustration]: I probably have to go wait another line to get my birth certificate don't I?\\n\",\n",
       "   'Speaker B [emotion: anger]: Probably.\\n',\n",
       "   \"Speaker A [emotion: frustration]: You're very helpful. What's your name?\\n\",\n",
       "   'Speaker B [emotion: neutral state]: Joy.\\n',\n",
       "   'Speaker A [emotion: neutral state]: Hi, Joy.\\n'],\n",
       "  'Speaker B [emotion: neutral state]: Hi. You know...\\n',\n",
       "  [('Speaker B [emotion: neutral state]:', 'Do you have a minute?'),\n",
       "   ('Speaker B [emotion: happiness]:', \"Glad to hear you're doing well.\"),\n",
       "   ('Speaker B [emotion: sadness]:',\n",
       "    \"I was looking in the newspaper, see? I can't find it.\"),\n",
       "   ('Speaker B [emotion: anger]:', \"Hi. I'm tired of your explanations.\"),\n",
       "   ('Speaker B [emotion: surprise]:',\n",
       "    'I thought you said you had a green card.'),\n",
       "   ('Speaker B [emotion: fear]:',\n",
       "    \"No, no, no. You don't have to call me by that name.\"),\n",
       "   ('Speaker B [emotion: disgust]:',\n",
       "    'I hate to tell you this, but we really need to have a little conversation about this.'),\n",
       "   ('Speaker B [emotion: frustration]:',\n",
       "    'Did you want me to give you a ride home?'),\n",
       "   ('Speaker B [emotion: excited]:', 'Hi, how are you doing?'),\n",
       "   ('Speaker B [emotion: other]:', \"Yes, who's this?\")])]"
      ]
     },
     "execution_count": 34,
     "metadata": {},
     "output_type": "execute_result"
    }
   ],
   "source": [
    "out_data"
   ]
  },
  {
   "cell_type": "code",
   "execution_count": 35,
   "metadata": {},
   "outputs": [
    {
     "data": {
      "text/plain": [
       "29"
      ]
     },
     "execution_count": 35,
     "metadata": {},
     "output_type": "execute_result"
    }
   ],
   "source": [
    "idx"
   ]
  },
  {
   "cell_type": "code",
   "execution_count": null,
   "metadata": {},
   "outputs": [],
   "source": []
  },
  {
   "cell_type": "code",
   "execution_count": null,
   "metadata": {},
   "outputs": [],
   "source": []
  },
  {
   "cell_type": "code",
   "execution_count": null,
   "metadata": {},
   "outputs": [],
   "source": []
  }
 ],
 "metadata": {
  "kernelspec": {
   "display_name": "Python 3 (ipykernel)",
   "language": "python",
   "name": "python3"
  },
  "language_info": {
   "codemirror_mode": {
    "name": "ipython",
    "version": 3
   },
   "file_extension": ".py",
   "mimetype": "text/x-python",
   "name": "python",
   "nbconvert_exporter": "python",
   "pygments_lexer": "ipython3",
   "version": "3.10.8"
  }
 },
 "nbformat": 4,
 "nbformat_minor": 4
}
