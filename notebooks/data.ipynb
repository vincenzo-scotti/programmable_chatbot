{
 "cells": [
  {
   "cell_type": "markdown",
   "source": [
    "# Data exploration"
   ],
   "metadata": {
    "collapsed": false
   }
  },
  {
   "cell_type": "markdown",
   "source": [
    "## Preliminaries"
   ],
   "metadata": {
    "collapsed": false
   }
  },
  {
   "cell_type": "markdown",
   "source": [
    "### Imports"
   ],
   "metadata": {
    "collapsed": false
   }
  },
  {
   "cell_type": "code",
   "execution_count": null,
   "outputs": [],
   "source": [
    "import os"
   ],
   "metadata": {
    "collapsed": false,
    "pycharm": {
     "name": "#%%\n"
    }
   }
  },
  {
   "cell_type": "code",
   "execution_count": null,
   "outputs": [],
   "source": [
    "import numpy as np\n",
    "import pandas as pd"
   ],
   "metadata": {
    "collapsed": false,
    "pycharm": {
     "name": "#%%\n"
    }
   }
  },
  {
   "cell_type": "code",
   "execution_count": null,
   "outputs": [],
   "source": [
    "% matplitlib inline\n",
    "from matplotlib import pyplot as plt\n",
    "import seaborn as sns"
   ],
   "metadata": {
    "collapsed": false,
    "pycharm": {
     "name": "#%%\n"
    }
   }
  },
  {
   "cell_type": "code",
   "execution_count": null,
   "outputs": [],
   "source": [
    "from transformers import AutoTokenizer"
   ],
   "metadata": {
    "collapsed": false,
    "pycharm": {
     "name": "#%%\n"
    }
   }
  },
  {
   "cell_type": "code",
   "execution_count": null,
   "outputs": [],
   "source": [
    "from programmable_chatbot.corpus import CORPORA"
   ],
   "metadata": {
    "collapsed": false,
    "pycharm": {
     "name": "#%%\n"
    }
   }
  },
  {
   "cell_type": "code",
   "execution_count": null,
   "outputs": [],
   "source": [
    "import nltk\n",
    "from nltk.tokenize import word_tokenize\n",
    "\n",
    "nltk.download('punkt')"
   ],
   "metadata": {
    "collapsed": false,
    "pycharm": {
     "name": "#%%\n"
    }
   }
  },
  {
   "cell_type": "markdown",
   "source": [
    "### Constants"
   ],
   "metadata": {
    "collapsed": false
   }
  },
  {
   "cell_type": "code",
   "execution_count": null,
   "outputs": [],
   "source": [
    "RAW_DATA_PATH = '../resources/data/raw'"
   ],
   "metadata": {
    "collapsed": false,
    "pycharm": {
     "name": "#%%\n"
    }
   }
  },
  {
   "cell_type": "code",
   "execution_count": null,
   "outputs": [],
   "source": [
    "SPLITS = ('train', 'validation', 'test')"
   ],
   "metadata": {
    "collapsed": false,
    "pycharm": {
     "name": "#%%\n"
    }
   }
  },
  {
   "cell_type": "code",
   "execution_count": null,
   "outputs": [],
   "source": [
    "RANDOM_SEED = 2307"
   ],
   "metadata": {
    "collapsed": false,
    "pycharm": {
     "name": "#%%\n"
    }
   }
  },
  {
   "cell_type": "code",
   "execution_count": null,
   "outputs": [],
   "source": [
    "CORPUS_KWARGS = {\n",
    "    'Counseling_and_Psychotherapy_Transcripts_Volume_II': {'holdout': 50}\n",
    "}"
   ],
   "metadata": {
    "collapsed": false,
    "pycharm": {
     "name": "#%%\n"
    }
   }
  },
  {
   "cell_type": "code",
   "execution_count": null,
   "outputs": [],
   "source": [
    "DF_COLUMNS = ['corpus_id', 'split', 'dialogue_id', 'utterance_id', 'speaker', 'n_tokens']"
   ],
   "metadata": {
    "collapsed": false,
    "pycharm": {
     "name": "#%%\n"
    }
   }
  },
  {
   "cell_type": "code",
   "execution_count": null,
   "outputs": [],
   "source": [
    "OPEN_DOMAIN_DATA = ('dailydialog', 'empatheticdialogues', 'personachat', 'wizard_of_wikipedia', 'IEMOCAP_full_release', 'Topical-Chat-master')\n",
    "THERAPY_DATA = ('Counseling_and_Psychotherapy_Transcripts_Volume_II', 'HOPE_WSDM_2022', 'Empathy-Mental-Health-master', 'Counsel_Chat')"
   ],
   "metadata": {
    "collapsed": false,
    "pycharm": {
     "name": "#%%\n"
    }
   }
  },
  {
   "cell_type": "code",
   "execution_count": null,
   "outputs": [],
   "source": [
    "UNCERTAINTY = False"
   ],
   "metadata": {
    "collapsed": false,
    "pycharm": {
     "name": "#%%\n"
    }
   }
  },
  {
   "cell_type": "code",
   "execution_count": null,
   "outputs": [],
   "source": [
    "COLUMNS_DD_LOCAL = ['Split', 'Emotion', 'Dialogue act']\n",
    "COLUMNS_DD_GLOBAL = ['Split', 'Topic']"
   ],
   "metadata": {
    "collapsed": false,
    "pycharm": {
     "name": "#%%\n"
    }
   }
  },
  {
   "cell_type": "code",
   "execution_count": null,
   "outputs": [],
   "source": [
    "COLUMNS_IEMOCAP = ['Split', 'Emotion', 'Valence', 'Activation', 'Dominance']\n",
    "COL_ORDER_I_V = [val.capitalize() for val in ['very negative', 'negative', 'neutral', 'positive', 'very positive'][::-1]]\n",
    "COL_ORDER_I_A = [val.capitalize() for val in ['very low', 'low', 'medium', 'high', 'very high'][::-1]]\n",
    "COL_ORDER_I_D = [val.capitalize() for val in ['very weak', 'weak', 'medium', 'strong', 'very strong'][::-1]]\n",
    "COL_ORDER_I_LIST = [COL_ORDER_I_V, COL_ORDER_I_A, COL_ORDER_I_D]"
   ],
   "metadata": {
    "collapsed": false,
    "pycharm": {
     "name": "#%%\n"
    }
   }
  },
  {
   "cell_type": "code",
   "execution_count": null,
   "outputs": [],
   "source": [
    "COLUMNS_HOPE = ['Split', 'Speaker', 'Dialogue act', 'Dialogue act category']\n",
    "HUE_ORDER_HOPE = ['Therapist', 'Patient']"
   ],
   "metadata": {
    "collapsed": false,
    "pycharm": {
     "name": "#%%\n"
    }
   }
  },
  {
   "cell_type": "code",
   "execution_count": null,
   "outputs": [],
   "source": [
    "COLUMNS_EPITOME = ['Split', 'Emotional reaction', 'Exploration', 'Interpretation']\n",
    "COL_ORDER_E = [val.capitalize() for val in ['no communication', 'weak communication', 'strong communication'][::-1]]"
   ],
   "metadata": {
    "collapsed": false,
    "pycharm": {
     "name": "#%%\n"
    }
   }
  },
  {
   "cell_type": "markdown",
   "source": [
    "### Helper functions"
   ],
   "metadata": {
    "collapsed": false,
    "pycharm": {
     "name": "#%% md\n"
    }
   }
  },
  {
   "cell_type": "code",
   "execution_count": null,
   "outputs": [],
   "source": [
    "def preprocess_metadata(s: str) -> str:\n",
    "    return s.capitalize().replace('_', ' ')\n",
    "\n",
    "def get_metadata_column_id(s: str) -> str:\n",
    "    return s.lower().replace(' ', '_')"
   ],
   "metadata": {
    "collapsed": false,
    "pycharm": {
     "name": "#%%\n"
    }
   }
  },
  {
   "cell_type": "markdown",
   "source": [
    "### Global variables"
   ],
   "metadata": {
    "collapsed": false
   }
  },
  {
   "cell_type": "code",
   "execution_count": null,
   "outputs": [],
   "source": [
    "gpt2_tokenizer = AutoTokenizer.from_pretrained('gpt2')"
   ],
   "metadata": {
    "collapsed": false,
    "pycharm": {
     "name": "#%%\n"
    }
   }
  },
  {
   "cell_type": "markdown",
   "source": [
    "## Data"
   ],
   "metadata": {
    "collapsed": false
   }
  },
  {
   "cell_type": "markdown",
   "source": [
    "Load data sets into dictionary."
   ],
   "metadata": {
    "collapsed": false
   }
  },
  {
   "cell_type": "code",
   "execution_count": null,
   "outputs": [],
   "source": [
    "data = {\n",
    "    corpus_id: {\n",
    "        split: CORPORA[corpus_id](\n",
    "            os.path.join(RAW_DATA_PATH, corpus_id),\n",
    "            split,\n",
    "            gpt2_tokenizer,\n",
    "            **CORPUS_KWARGS.get(corpus_id, dict())\n",
    "        ).data\n",
    "        for split in SPLITS\n",
    "    }\n",
    "    for corpus_id in CORPORA\n",
    "}"
   ],
   "metadata": {
    "collapsed": false,
    "pycharm": {
     "name": "#%%\n"
    }
   }
  },
  {
   "cell_type": "markdown",
   "source": [
    "Extract info and convert to data frame"
   ],
   "metadata": {
    "collapsed": false
   }
  },
  {
   "cell_type": "code",
   "execution_count": null,
   "outputs": [],
   "source": [
    "df = pd.DataFrame(\n",
    "    [\n",
    "        (corpus, split, i, j, utterance.get('speaker'), len(word_tokenize(utterance['text'])))\n",
    "        for corpus, splits in data.items()\n",
    "        for split, dialogues in splits.items()\n",
    "        for i, dialogue in enumerate(dialogues)\n",
    "        for j, utterance in enumerate(dialogue['utterances'])\n",
    "    ],\n",
    "    columns=DF_COLUMNS\n",
    ")"
   ],
   "metadata": {
    "collapsed": false,
    "pycharm": {
     "name": "#%%\n"
    }
   }
  },
  {
   "cell_type": "markdown",
   "source": [
    "### Exploration"
   ],
   "metadata": {
    "collapsed": false
   }
  },
  {
   "cell_type": "markdown",
   "source": [
    "Compute data set stats"
   ],
   "metadata": {
    "collapsed": false,
    "pycharm": {
     "name": "#%% md\n"
    }
   }
  },
  {
   "cell_type": "code",
   "execution_count": null,
   "outputs": [],
   "source": [
    "for split in SPLITS:\n",
    "    for corpus in OPEN_DOMAIN_DATA:\n",
    "        tmp_df = df[(df['split'] == split) & (df['corpus_id'] == corpus)]\n",
    "        print(\n",
    "            f\"{:d}\",\n",
    "            f\"{:.1f}\" + (f\" \\pm {:.1f}\" if UNCERTAINTY else \"\") ,\n",
    "            f\"{:.1f}\" + (f\" \\pm {:.1f}\" if UNCERTAINTY else \"\") ,\n",
    "            sep=' & '\n",
    "        )"
   ],
   "metadata": {
    "collapsed": false,
    "pycharm": {
     "name": "#%%\n"
    }
   }
  },
  {
   "cell_type": "code",
   "execution_count": null,
   "outputs": [],
   "source": [
    "for split in SPLITS:\n",
    "    for corpus in THERAPY_DATA:\n",
    "        tmp_df = df[(df['split'] == split) & (df['corpus_id'] == corpus)]\n",
    "        tmp_df_t = tmp_df[tmp_df['speaker'] == 'therapist']\n",
    "        tmp_df_p = tmp_df[tmp_df['speaker'] == 'patient']\n",
    "        print(\n",
    "            f'{:d}',\n",
    "            f\"{:.1f}\" + (f\" \\pm {:.1f}\" if UNCERTAINTY else \"\") ,\n",
    "            f\"{:.1f}\" + (f\" \\pm {:.1f}\" if UNCERTAINTY else \"\") ,\n",
    "            f\"{:.1f}\" + (f\" \\pm {:.1f}\" if UNCERTAINTY else \"\") ,\n",
    "            f\"{:.1f}\" + (f\" \\pm {:.1f}\" if UNCERTAINTY else \"\") ,\n",
    "            sep=' & '\n",
    "        )"
   ],
   "metadata": {
    "collapsed": false,
    "pycharm": {
     "name": "#%%\n"
    }
   }
  },
  {
   "cell_type": "markdown",
   "source": [
    "### Visualisation"
   ],
   "metadata": {
    "collapsed": false
   }
  },
  {
   "cell_type": "markdown",
   "source": [
    "#### DailyDialog"
   ],
   "metadata": {
    "collapsed": false
   }
  },
  {
   "cell_type": "code",
   "execution_count": null,
   "outputs": [],
   "source": [
    "tmp_df = pd.DataFrame(\n",
    "    [\n",
    "        (split, *(utterance[get_metadata_column_id(label)] for label in COLUMNS_DD_LOCAL[1:]))\n",
    "        for split, dialogues in data['dailydialog'].items()\n",
    "        for dialogue in dialogues\n",
    "        for utterance in dialogue['utterances']\n",
    "    ],\n",
    "    columns=COLUMNS_DD_LOCAL\n",
    ")"
   ],
   "metadata": {
    "collapsed": false,
    "pycharm": {
     "name": "#%%\n"
    }
   }
  },
  {
   "cell_type": "code",
   "execution_count": null,
   "outputs": [],
   "source": [
    "fig = plt.figure(figsize=())\n",
    "sns.countplot(data=tmp_df, x='Emotion', hue='Split', linewidth=1., edgecolor='0')\n",
    "plt.yscale('log')\n",
    "plt.ylim([1, 1.e5])\n",
    "plt.ylabel('Count')\n",
    "plt.tight_layout()\n",
    "plt.show()"
   ],
   "metadata": {
    "collapsed": false,
    "pycharm": {
     "name": "#%%\n"
    }
   }
  },
  {
   "cell_type": "code",
   "execution_count": null,
   "outputs": [],
   "source": [
    "fig.savefig('ddemo.pdf', bbox_inches='tight')"
   ],
   "metadata": {
    "collapsed": false,
    "pycharm": {
     "name": "#%%\n"
    }
   }
  },
  {
   "cell_type": "code",
   "execution_count": null,
   "outputs": [],
   "source": [
    "fig ="
   ],
   "metadata": {
    "collapsed": false,
    "pycharm": {
     "name": "#%%\n"
    }
   }
  },
  {
   "cell_type": "code",
   "execution_count": null,
   "outputs": [],
   "source": [
    "fig.savefig('ddda.pdf', bbox_inches='tight')"
   ],
   "metadata": {
    "collapsed": false,
    "pycharm": {
     "name": "#%%\n"
    }
   }
  },
  {
   "cell_type": "code",
   "execution_count": null,
   "outputs": [],
   "source": [
    "tmp_df = pd.DataFrame(\n",
    "    [\n",
    "        (split, *(dialogue[get_metadata_column_id(label)] for label in COLUMNS_DD_GLOBAL[1:]))\n",
    "        for split, dialogues in data['dailydialog'].items()\n",
    "        for dialogue in dialogues\n",
    "    ],\n",
    "    columns=COLUMNS_DD_GLOBAL\n",
    ")"
   ],
   "metadata": {
    "collapsed": false,
    "pycharm": {
     "name": "#%%\n"
    }
   }
  },
  {
   "cell_type": "code",
   "execution_count": null,
   "outputs": [],
   "source": [
    "fig ="
   ],
   "metadata": {
    "collapsed": false,
    "pycharm": {
     "name": "#%%\n"
    }
   }
  },
  {
   "cell_type": "code",
   "execution_count": null,
   "outputs": [],
   "source": [
    "fig.savefig('ddtopic.pdf', bbox_inches='tight')"
   ],
   "metadata": {
    "collapsed": false,
    "pycharm": {
     "name": "#%%\n"
    }
   }
  },
  {
   "cell_type": "markdown",
   "source": [
    "#### IEMOCAP"
   ],
   "metadata": {
    "collapsed": false
   }
  },
  {
   "cell_type": "code",
   "execution_count": null,
   "outputs": [],
   "source": [
    "tmp_df = pd.DataFrame(\n",
    "    [\n",
    "        (split, *(utterance[get_metadata_column_id(label)] for label in COLUMNS_IEMOCAP[1:]))\n",
    "        for split, dialogues in data['IEMOCAP_full_release'].items()\n",
    "        for dialogue in dialogues\n",
    "        for utterance in dialogue['utterances']\n",
    "    ],\n",
    "    columns=COLUMNS_IEMOCAP\n",
    ")\n"
   ],
   "metadata": {
    "collapsed": false,
    "pycharm": {
     "name": "#%%\n"
    }
   }
  },
  {
   "cell_type": "code",
   "execution_count": null,
   "outputs": [],
   "source": [
    "fig ="
   ],
   "metadata": {
    "collapsed": false,
    "pycharm": {
     "name": "#%%\n"
    }
   }
  },
  {
   "cell_type": "code",
   "execution_count": null,
   "outputs": [],
   "source": [
    "fig.savefig('iemocapemocat.pdf', bbox_inches='tight')"
   ],
   "metadata": {
    "collapsed": false,
    "pycharm": {
     "name": "#%%\n"
    }
   }
  },
  {
   "cell_type": "code",
   "execution_count": null,
   "outputs": [],
   "source": [
    "fig, axes = plt.subplots(\n",
    "    nrows=1,\n",
    "    ncols=3,\n",
    "    figsize=(),\n",
    "    sharex=True\n",
    ")\n",
    "\n",
    "for i, (label, label_order) in enumerate(zip(COLUMNS_IEMOCAP[-3:], COL_ORDER_I_LIST)):\n",
    "    sns.countplot(\n",
    "        data=tmp_df, hue='Split', y=label, order=label_order, ax=axes[i], linewidth=1., edgecolor='0', orient='h'\n",
    "    )\n",
    "    axes[i].set_title(f'Dimension: {label}')\n",
    "    axes[i].set_xscale('log')\n",
    "    axes[0][i].set_xlim([1, 1e5])\n",
    "    axes[i].set_xlabel('Count')\n",
    "\n",
    "plt.tight_layout()\n",
    "plt.show()"
   ],
   "metadata": {
    "collapsed": false,
    "pycharm": {
     "name": "#%%\n"
    }
   }
  },
  {
   "cell_type": "code",
   "execution_count": null,
   "outputs": [],
   "source": [
    "fig.savefig('iemocapemodim.pdf', bbox_inches='tight')"
   ],
   "metadata": {
    "collapsed": false,
    "pycharm": {
     "name": "#%%\n"
    }
   }
  },
  {
   "cell_type": "markdown",
   "source": [
    "#### HOPE"
   ],
   "metadata": {
    "collapsed": false
   }
  },
  {
   "cell_type": "code",
   "execution_count": null,
   "outputs": [],
   "source": [
    "tmp_df = pd.DataFrame(\n",
    "    [\n",
    "        (split, *(utterance[get_metadata_column_id(label)] for label in COLUMNS_HOPE[1:]))\n",
    "        for split, dialogues in data['HOPE_WSDM_2022'].items()\n",
    "        for dialogue in dialogues\n",
    "        for utterance in dialogue['utterances']\n",
    "    ],\n",
    "    columns=COLUMNS_IEMOCAP\n",
    ")"
   ],
   "metadata": {
    "collapsed": false,
    "pycharm": {
     "name": "#%%\n"
    }
   }
  },
  {
   "cell_type": "code",
   "execution_count": null,
   "outputs": [],
   "source": [
    "fig, axes = plt.subplots(\n",
    "    nrows=1,\n",
    "    ncols=len(tmp_df['Split'].unique()),\n",
    "    figsize=(),\n",
    "    sharex=True,\n",
    "    sharey=True\n",
    ")\n",
    "\n",
    "for i, split in enumerate(tmp_df['split'].unique()):\n",
    "    sns.countplot(\n",
    "        data=tmp_df[tmp_df['Split'] == split], hue='Speaker', x=0, y='Dialogue act category', hue_order=HUE_ORDER_HOPE,\n",
    "        ax=axes[i], linewidth=1., edgecolor='0', orient='h'\n",
    "    )\n",
    "    axes[i].set_title(f'Split: {split}')\n",
    "    axes[i].set_xscale('log')\n",
    "    axes[0][i].set_xlim([1, 1e5])\n",
    "    axes[i].set_xlabel('Count')\n",
    "\n",
    "plt.tight_layout()\n",
    "plt.show()"
   ],
   "metadata": {
    "collapsed": false,
    "pycharm": {
     "name": "#%%\n"
    }
   }
  },
  {
   "cell_type": "code",
   "execution_count": null,
   "outputs": [],
   "source": [
    "fig.savefig('hopedac.pdf', bbox_inches='tight')"
   ],
   "metadata": {
    "collapsed": false,
    "pycharm": {
     "name": "#%%\n"
    }
   }
  },
  {
   "cell_type": "code",
   "execution_count": null,
   "outputs": [],
   "source": [
    "fig ="
   ],
   "metadata": {
    "collapsed": false,
    "pycharm": {
     "name": "#%%\n"
    }
   }
  },
  {
   "cell_type": "code",
   "execution_count": null,
   "outputs": [],
   "source": [
    "fig.savefig('hopeda.pdf', bbox_inches='tight')"
   ],
   "metadata": {
    "collapsed": false,
    "pycharm": {
     "name": "#%%\n"
    }
   }
  },
  {
   "cell_type": "markdown",
   "source": [
    "#### EPITOME"
   ],
   "metadata": {
    "collapsed": false
   }
  },
  {
   "cell_type": "code",
   "execution_count": null,
   "outputs": [],
   "source": [
    "tmp_df = pd.DataFrame(\n",
    "    [\n",
    "        (split, *(dialogue['utterances'][-1][get_metadata_column_id(label)] for label in COLUMNS_EPITOME[1:]))\n",
    "        for split, dialogues in data['Empathy-Mental-Health-master'].items()\n",
    "        for dialogue in dialogues\n",
    "    ],\n",
    "    columns=COLUMNS_IEMOCAP\n",
    ")"
   ],
   "metadata": {
    "collapsed": false,
    "pycharm": {
     "name": "#%%\n"
    }
   }
  },
  {
   "cell_type": "code",
   "execution_count": null,
   "outputs": [],
   "source": [
    "fig, axes = plt.subplots(\n",
    "    nrows=1,\n",
    "    ncols=len(COLUMNS_EPITOME[1:]),\n",
    "    figsize=(),\n",
    "    sharex=True\n",
    ")\n",
    "\n",
    "for i, label in enumerate(COLUMNS_EPITOME[1:]):\n",
    "    sns.countplot(\n",
    "        data=tmp_df, hue='Split', y=label, order=COL_ORDER_E, ax=axes[i], linewidth=1., edgecolor='0', orient='h'\n",
    "    )\n",
    "    axes[i].set_title(label)\n",
    "    axes[i].set_xscale('log')\n",
    "    axes[0][i].set_xlim([1, 1e5])\n",
    "    axes[i].set_xlabel('Count')\n",
    "\n",
    "plt.tight_layout()\n",
    "plt.show()"
   ],
   "metadata": {
    "collapsed": false,
    "pycharm": {
     "name": "#%%\n"
    }
   }
  },
  {
   "cell_type": "code",
   "execution_count": null,
   "outputs": [],
   "source": [
    "fig.savefig('epitomeemp.pdf', bbox_inches='tight')"
   ],
   "metadata": {
    "collapsed": false,
    "pycharm": {
     "name": "#%%\n"
    }
   }
  }
 ],
 "metadata": {
  "kernelspec": {
   "display_name": "Python 3",
   "language": "python",
   "name": "python3"
  },
  "language_info": {
   "codemirror_mode": {
    "name": "ipython",
    "version": 2
   },
   "file_extension": ".py",
   "mimetype": "text/x-python",
   "name": "python",
   "nbconvert_exporter": "python",
   "pygments_lexer": "ipython2",
   "version": "2.7.6"
  }
 },
 "nbformat": 4,
 "nbformat_minor": 0
}