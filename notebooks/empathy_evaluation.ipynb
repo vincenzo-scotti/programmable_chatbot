{
 "cells": [
  {
   "cell_type": "markdown",
   "metadata": {
    "pycharm": {
     "name": "#%% md\n"
    }
   },
   "source": [
    "# Evaluation"
   ]
  },
  {
   "cell_type": "markdown",
   "metadata": {},
   "source": [
    "## Preliminaries"
   ]
  },
  {
   "cell_type": "markdown",
   "metadata": {},
   "source": [
    "### Imports"
   ]
  },
  {
   "cell_type": "code",
   "execution_count": null,
   "metadata": {
    "collapsed": false,
    "jupyter": {
     "outputs_hidden": false
    },
    "pycharm": {
     "name": "#%%\n"
    }
   },
   "outputs": [],
   "source": [
    "import sys\n",
    "import os\n",
    "sys.path.append('./src')"
   ]
  },
  {
   "cell_type": "code",
   "execution_count": null,
   "metadata": {
    "collapsed": false,
    "jupyter": {
     "outputs_hidden": false
    },
    "pycharm": {
     "name": "#%%\n"
    }
   },
   "outputs": [],
   "source": [
    "import pandas as pd"
   ]
  },
  {
   "cell_type": "code",
   "execution_count": null,
   "metadata": {
    "collapsed": false,
    "jupyter": {
     "outputs_hidden": false
    },
    "pycharm": {
     "name": "#%%\n"
    }
   },
   "outputs": [],
   "source": [
    "from programmable_chatbot.chatbot_api import Chatbot"
   ]
  },
  {
   "cell_type": "code",
   "execution_count": null,
   "metadata": {
    "collapsed": false,
    "jupyter": {
     "outputs_hidden": false
    },
    "pycharm": {
     "name": "#%%\n"
    }
   },
   "outputs": [],
   "source": [
    "%matplotlib inline\n",
    "from matplotlib import pyplot as plt\n",
    "import seaborn as sns"
   ]
  },
  {
   "cell_type": "markdown",
   "metadata": {
    "pycharm": {
     "name": "#%% md\n"
    }
   },
   "source": [
    "### Constants"
   ]
  },
  {
   "cell_type": "code",
   "execution_count": null,
   "outputs": [],
   "source": [
    "DATA_PATH = 'resources/data/eval'\n",
    "DIALOGUE_PATHS = {\n",
    "    'Therapy-DLDLM': '',\n",
    "    'GS_DLM': '',\n",
    "    'PPM-DLM': ''\n",
    "}\n",
    "\n",
    "if not os.path.exists(DATA_PATH):\n",
    "    os.mkdir(DATA_PATH)"
   ],
   "metadata": {
    "collapsed": false,
    "pycharm": {
     "name": "#%%\n"
    }
   }
  },
  {
   "cell_type": "code",
   "execution_count": null,
   "metadata": {
    "collapsed": false,
    "jupyter": {
     "outputs_hidden": false
    },
    "pycharm": {
     "name": "#%%\n"
    }
   },
   "outputs": [],
   "source": [
    "TOKENIZER = 'gpt2'\n",
    "MODEL_PATH = '../experiments/PROGCHAT/gpt2_large_2023_01_06_12_19_33/model/best_checkpoint'"
   ]
  },
  {
   "cell_type": "code",
   "execution_count": null,
   "metadata": {
    "collapsed": false,
    "jupyter": {
     "outputs_hidden": false
    },
    "pycharm": {
     "name": "#%%\n"
    }
   },
   "outputs": [],
   "source": [
    "IN_DF_COLUMNS = ['Split', 'Corpus', 'Conversation ID', 'Turn IDX', 'Speaker', 'Context', 'Last message', 'Response', 'Model']\n",
    "OUT_DF_COLUMNS = IN_DF_COLUMNS + ['']"
   ]
  },
  {
   "cell_type": "markdown",
   "source": [
    "### Model and tokenizer"
   ],
   "metadata": {
    "collapsed": false
   }
  },
  {
   "cell_type": "code",
   "execution_count": null,
   "outputs": [],
   "source": [
    "chatbot = Chatbot(\n",
    "    MODEL_PATH,\n",
    "    TOKENIZER\n",
    ")"
   ],
   "metadata": {
    "collapsed": false,
    "pycharm": {
     "name": "#%%\n"
    }
   }
  },
  {
   "cell_type": "markdown",
   "metadata": {
    "pycharm": {
     "name": "#%% md\n"
    }
   },
   "source": [
    "## Data"
   ]
  },
  {
   "cell_type": "markdown",
   "metadata": {
    "pycharm": {
     "name": "#%% md\n"
    }
   },
   "source": [
    "### Load data"
   ]
  },
  {
   "cell_type": "code",
   "execution_count": null,
   "metadata": {
    "collapsed": false,
    "jupyter": {
     "outputs_hidden": false
    },
    "pycharm": {
     "name": "#%%\n"
    }
   },
   "outputs": [],
   "source": [
    "data = {k: pd.read_csv(v) for k, v in DIALOGUE_PATHS.items()}\n"
   ]
  },
  {
   "cell_type": "markdown",
   "metadata": {},
   "source": [
    "## Task description"
   ]
  },
  {
   "cell_type": "code",
   "execution_count": null,
   "metadata": {
    "collapsed": false,
    "jupyter": {
     "outputs_hidden": false
    },
    "pycharm": {
     "name": "#%%\n"
    }
   },
   "outputs": [],
   "source": [
    "preamble = 'The following is a passage from therapy session between a person, called Patient, ' \\\n",
    "           'and a therapist, called Therapist.'\n",
    "\n",
    "\n",
    "labels = {\n",
    "    'Emotional reaction': (\n",
    "        'Label the following response of a conversation with information about the emotional reaction.\\n'\n",
    "        'Emotional reaction is a communication mechanism of empathy. '\n",
    "        'Having an emotional reaction means expressing emotions such as warmth, compassion, and concern. '\n",
    "        'Expressing these emotions plays an important role in establishing empathetic rapport and support.\\n'\n",
    "        'The values of emotional reaction are: no communication, weak communication, strong communication.',\n",
    "        ['no communication', 'weak communication', 'strong communication']\n",
    "    ),\n",
    "    'Exploration': (\n",
    "        'Label the following response of a conversation with information about the exploration.\\n'\n",
    "        'Exploration is a communication mechanism of empathy.'\n",
    "        'It consists in improving understanding of the other by exploring the feelings '\n",
    "        'and experiences not directly stated. Showing an active interest in what the other '\n",
    "        'is experiencing and feeling and probing gently is another important aspect of empathy.\\n'\n",
    "        'The values of exploration are: no communication, weak communication, strong communication.',\n",
    "        ['no communication', 'weak communication', 'strong communication']\n",
    "    ),\n",
    "    'Interpretation': (\n",
    "        'Label the following response of a conversation with information about the interpretation.\\n'\n",
    "        'Interpretation is a communication mechanism of empathy. '\n",
    "        'Interpretation consists in communicating an understanding of feelings and experiences '\n",
    "        'inferred from the interaction with the other. Such a cognitive understanding in responses '\n",
    "        'is helpful in increasing awareness of hidden feelings and experiences, '\n",
    "        'and essential for developing alliance between two interacting\\n'\n",
    "        'The values of interpretation are: no communication, weak communication, strong communication.',\n",
    "        ['no communication', 'weak communication', 'strong communication']\n",
    "    )\n",
    "}\n",
    "\n",
    "global_label = 'Persona description of the speakers: \\n' \\\n",
    "               'TherapyBot persona: My name is TherapyBot and I am a therapist AI. ' \\\n",
    "               'I use empathy to connect with my patients. ' \\\n",
    "               'I want to help my patients feel better. I like offering support to people.'"
   ]
  },
  {
   "cell_type": "markdown",
   "metadata": {
    "pycharm": {
     "name": "#%% md\n"
    }
   },
   "source": [
    "## Evaluation data preparation"
   ]
  },
  {
   "cell_type": "markdown",
   "metadata": {
    "pycharm": {
     "name": "#%% md\n"
    }
   },
   "source": [
    "### Responses generation"
   ]
  },
  {
   "cell_type": "code",
   "execution_count": null,
   "metadata": {
    "collapsed": false,
    "jupyter": {
     "outputs_hidden": false
    },
    "pycharm": {
     "name": "#%%\n"
    }
   },
   "outputs": [],
   "source": [
    "out_data = {}"
   ]
  },
  {
   "cell_type": "code",
   "execution_count": null,
   "metadata": {
    "collapsed": false,
    "jupyter": {
     "outputs_hidden": false
    },
    "pycharm": {
     "name": "#%%\n"
    }
   },
   "outputs": [],
   "source": [
    "# Iterate over dialogues\n",
    "for key, df in data:\n",
    "    # Iterate over labels to assign\n",
    "    for label, (labelling_task, label_values) in labels.items():\n",
    "        # Create accumulator for predicted values\n",
    "        values = []\n",
    "        # Iterate over DF rows\n",
    "        for _, row in df.iterrows():\n",
    "            # Get prediction\n",
    "            values.append(chatbot.label_utterance(\n",
    "                [row['Last message']], row['Response'], label, label_values,\n",
    "                'posterior', f'{preamble}\\n\\n{labelling_task}'\n",
    "            ))\n",
    "        # Add values to data frame\n",
    "        df[label] = values\n",
    "    # Add values to accumulator\n",
    "    out_data[key] = df\n",
    "    # Serialise results\n",
    "    df.to_csv(\n",
    "        os.path.join(DATA_PATH, f'empathy_results_{key.lower().replace(\" \", \"_\").replace(\"-\", \"_\")}.csv'), index=False\n",
    "    )"
   ]
  },
  {
   "cell_type": "markdown",
   "metadata": {
    "pycharm": {
     "name": "#%% md\n"
    }
   },
   "source": [
    "### Visualise results"
   ]
  },
  {
   "cell_type": "code",
   "execution_count": null,
   "metadata": {
    "collapsed": false,
    "jupyter": {
     "outputs_hidden": false
    },
    "pycharm": {
     "name": "#%%\n"
    }
   },
   "outputs": [],
   "source": [
    "for key, df in out_data.items():\n",
    "    fig, axes = plt.subplots(\n",
    "        nrows=1,\n",
    "        ncols=3,\n",
    "        figsize=(12, 3),\n",
    "        sharex=True,\n",
    "        sharey=True\n",
    "    )\n",
    "\n",
    "    for i, label in enumerate(labels):\n",
    "        sns.countplot(\n",
    "            data=df, hue='Model', y=label, order=labels[label][1], ax=axes[i], linewidth=1., edgecolor='0', orient='h'\n",
    "        )\n",
    "        axes[i].set_title(label)\n",
    "        axes[i].set_xscale('log')\n",
    "        axes[i].set_xlim([1, 1e4])\n",
    "        axes[i].set_xlabel('Count')\n",
    "\n",
    "        plt.tight_layout()\n",
    "        plt.show()\n",
    "\n",
    "\n",
    "    fig.savefig(\n",
    "        os.path.join(DATA_PATH, f'empathy_results_{key.lower().replace(\" \", \"_\").replace(\"-\", \"_\")}.pdf'),\n",
    "        bbox_inches='tight'\n",
    "    )\n"
   ]
  },
  {
   "cell_type": "code",
   "execution_count": null,
   "metadata": {},
   "outputs": [],
   "source": []
  }
 ],
 "metadata": {
  "kernelspec": {
   "display_name": "Python 3 (ipykernel)",
   "language": "python",
   "name": "python3"
  },
  "language_info": {
   "codemirror_mode": {
    "name": "ipython",
    "version": 3
   },
   "file_extension": ".py",
   "mimetype": "text/x-python",
   "name": "python",
   "nbconvert_exporter": "python",
   "pygments_lexer": "ipython3",
   "version": "3.10.4"
  }
 },
 "nbformat": 4,
 "nbformat_minor": 4
}