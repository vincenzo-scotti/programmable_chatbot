{
 "cells": [
  {
   "cell_type": "markdown",
   "metadata": {
    "pycharm": {
     "name": "#%% md\n"
    },
    "tags": []
   },
   "source": [
    "# Results"
   ]
  },
  {
   "cell_type": "markdown",
   "metadata": {
    "pycharm": {
     "name": "#%% md\n"
    }
   },
   "source": [
    "## Preliminaries"
   ]
  },
  {
   "cell_type": "markdown",
   "metadata": {
    "pycharm": {
     "name": "#%% md\n"
    }
   },
   "source": [
    "### Imports"
   ]
  },
  {
   "cell_type": "code",
   "execution_count": 1,
   "metadata": {
    "collapsed": false,
    "jupyter": {
     "outputs_hidden": false
    },
    "pycharm": {
     "name": "#%%\n"
    }
   },
   "outputs": [],
   "source": [
    "import pickle"
   ]
  },
  {
   "cell_type": "markdown",
   "metadata": {
    "pycharm": {
     "name": "#%% md\n"
    }
   },
   "source": [
    "### Constants"
   ]
  },
  {
   "cell_type": "code",
   "execution_count": 4,
   "metadata": {
    "collapsed": false,
    "jupyter": {
     "outputs_hidden": false
    },
    "pycharm": {
     "name": "#%%\n"
    }
   },
   "outputs": [],
   "source": [
    "PATH = '../experiments/gpt2_large_eval_only_2023_01_10_13_48_57/results.pkl'"
   ]
  },
  {
   "cell_type": "code",
   "execution_count": 16,
   "metadata": {},
   "outputs": [],
   "source": [
    "ID_MAPPING = {\n",
    "    'dailydialog': 'DD',\n",
    "    'empatheticdialogues': 'ED',\n",
    "    'IEMOCAP_full_release': 'IEMOCAP',\n",
    "    'personachat': 'PC',\n",
    "    'Topical-Chat-master': 'TC',\n",
    "    'wizard_of_wikipedia': '\\\\textsc{WoW}',\n",
    "    'Counseling_and_Psychotherapy_Transcripts_Volume_II': 'CPT2',\n",
    "    'HOPE_WSDM_2022': 'HOPE',\n",
    "    'Counsel_Chat': 'CC',\n",
    "    'Empathy-Mental-Health-master': 'EPITOME'\n",
    "}"
   ]
  },
  {
   "cell_type": "markdown",
   "metadata": {
    "pycharm": {
     "name": "#%% md\n"
    }
   },
   "source": [
    "## Data"
   ]
  },
  {
   "cell_type": "markdown",
   "metadata": {
    "pycharm": {
     "name": "#%% md\n"
    }
   },
   "source": [
    "Load results data"
   ]
  },
  {
   "cell_type": "code",
   "execution_count": 5,
   "metadata": {
    "collapsed": false,
    "jupyter": {
     "outputs_hidden": false
    },
    "pycharm": {
     "name": "#%%\n"
    }
   },
   "outputs": [],
   "source": [
    "with open(PATH, 'rb') as f:\n",
    "    results = pickle.load(f)"
   ]
  },
  {
   "cell_type": "markdown",
   "metadata": {
    "pycharm": {
     "name": "#%% md\n"
    }
   },
   "source": [
    "## Visualisation"
   ]
  },
  {
   "cell_type": "code",
   "execution_count": 39,
   "metadata": {
    "collapsed": false,
    "jupyter": {
     "outputs_hidden": false
    },
    "pycharm": {
     "name": "#%%\n"
    }
   },
   "outputs": [
    {
     "name": "stdout",
     "output_type": "stream",
     "text": [
      "\\multirow{}{*}{\\textbf{DD}} & Generator\\tnote{1} &  &  &  &  &  &  &  &  & 15.51\\\\\n",
      " & Generator\\tnote{2} &  &  &  &  &  &  &  &  & 4.92\\\\\n",
      " & Discriminator\\tnote{3} & \\multirow{}{*}{Topic} & 69.59 & 72.16 & 54.44 & 72.40 & 58.27 & 70.39 & 72.40 & \\\\\n",
      " & Discriminator\\tnote{4} &  & 41.40 & 55.44 & 42.43 & 55.60 & 40.45 & 54.85 & 55.60 & \\\\\n",
      " & Discriminator\\tnote{3} & \\multirow{}{*}{Emotion} & 70.79 & 87.78 & 42.18 & 88.57 & 49.48 & 87.59 & 88.57 & \\\\\n",
      " & Discriminator\\tnote{4} &  & 52.76 & 85.02 & 49.75 & 84.88 & 49.74 & 84.73 & 84.88 & \\\\\n",
      " & Discriminator\\tnote{5} &  & 75.64 & 84.11 & 31.40 & 85.72 & 38.65 & 83.35 & 85.72 & \\\\\n",
      " & Discriminator\\tnote{3} & \\multirow{}{*}{Dialogue act} & 85.22 & 88.20 & 85.91 & 88.36 & 85.34 & 88.16 & 88.36 & \\\\\n",
      " & Discriminator\\tnote{4} &  & 79.63 & 81.87 & 78.45 & 82.51 & 78.58 & 81.84 & 82.51 & \\\\\n",
      " & Discriminator\\tnote{5} &  & 59.69 & 62.02 & 60.75 & 62.98 & 58.60 & 61.50 & 62.98 & \\\\\n",
      "\\midrule\n",
      "\\multirow{}{*}{\\textbf{ED}} & Generator\\tnote{1} &  &  &  &  &  &  &  &  & 22.97\\\\\n",
      " & Generator\\tnote{2} &  &  &  &  &  &  &  &  & 22.94\\\\\n",
      "\\midrule\n",
      "\\multirow{}{*}{\\textbf{IEMOCAP}} & Generator\\tnote{1} &  &  &  &  &  &  &  &  & 8.79\\\\\n",
      " & Generator\\tnote{2} &  &  &  &  &  &  &  &  & 2.64\\\\\n",
      " & Discriminator\\tnote{3} & \\multirow{}{*}{Emotion} & 44.60 & 53.94 & 47.27 & 44.20 & 36.50 & 42.79 & 44.20 & \\\\\n",
      " & Discriminator\\tnote{4} &  & 40.11 & 56.14 & 32.83 & 52.52 & 31.25 & 49.08 & 52.52 & \\\\\n",
      " & Discriminator\\tnote{5} &  & 41.64 & 54.34 & 31.10 & 50.95 & 30.52 & 46.48 & 50.95 & \\\\\n",
      " & Discriminator\\tnote{3} & \\multirow{}{*}{Valence} & 34.50 & 41.51 & 23.75 & 33.79 & 25.99 & 36.56 & 33.79 & \\\\\n",
      " & Discriminator\\tnote{4} &  & 53.82 & 72.51 & 26.08 & 39.93 & 28.00 & 40.25 & 39.93 & \\\\\n",
      " & Discriminator\\tnote{5} &  & 35.34 & 39.69 & 25.48 & 38.60 & 26.83 & 38.62 & 38.60 & \\\\\n",
      " & Discriminator\\tnote{3} & \\multirow{}{*}{Activation} & 20.79 & 44.46 & 21.36 & 51.60 & 19.34 & 44.62 & 51.60 & \\\\\n",
      " & Discriminator\\tnote{4} &  & 30.83 & 49.61 & 24.12 & 52.10 & 23.86 & 48.55 & 52.10 & \\\\\n",
      " & Discriminator\\tnote{5} &  & 35.45 & 52.16 & 22.80 & 51.22 & 21.90 & 47.31 & 51.22 & \\\\\n",
      " & Discriminator\\tnote{3} & \\multirow{}{*}{Dominance} & 33.86 & 48.99 & 25.16 & 46.22 & 22.63 & 42.64 & 46.22 & \\\\\n",
      " & Discriminator\\tnote{4} &  & 38.39 & 52.88 & 27.57 & 46.99 & 28.47 & 46.94 & 46.99 & \\\\\n",
      " & Discriminator\\tnote{5} &  & 30.29 & 46.92 & 24.25 & 43.78 & 24.17 & 43.19 & 43.78 & \\\\\n",
      "\\midrule\n",
      "\\multirow{}{*}{\\textbf{PC}} & Generator\\tnote{1} &  &  &  &  &  &  &  &  & 21.15\\\\\n",
      " & Generator\\tnote{2} &  &  &  &  &  &  &  &  & 17.41\\\\\n",
      "\\midrule\n",
      "\\multirow{}{*}{\\textbf{TC}} & Generator\\tnote{1} &  &  &  &  &  &  &  &  & 16.18\\\\\n",
      "\\midrule\n",
      "\\multirow{}{*}{\\textbf{\\textsc{WoW}}} & Generator\\tnote{1} &  &  &  &  &  &  &  &  & 18.97\\\\\n",
      " & Generator\\tnote{2} &  &  &  &  &  &  &  &  & 18.37\\\\\n",
      "\\midrule\n",
      "\\multirow{}{*}{\\textbf{CPT2}} & Generator\\tnote{1} &  &  &  &  &  &  &  &  & 13.46\\\\\n",
      "\\midrule\n",
      "\\multirow{}{*}{\\textbf{HOPE}} & Generator\\tnote{1} &  &  &  &  &  &  &  &  & 26.81\\\\\n",
      " & Generator\\tnote{2} &  &  &  &  &  &  &  &  & 6.66\\\\\n",
      " & Discriminator\\tnote{3} & \\multirow{}{*}{Dialogue act category} & 76.45 & 78.39 & 76.56 & 77.13 & 76.25 & 77.54 & 77.13 & \\\\\n",
      " & Discriminator\\tnote{4} &  & 75.31 & 77.48 & 75.56 & 76.45 & 75.27 & 76.82 & 76.45 & \\\\\n",
      " & Discriminator\\tnote{5} &  & 74.06 & 75.92 & 73.66 & 75.51 & 73.58 & 75.44 & 75.51 & \\\\\n",
      " & Discriminator\\tnote{3} & \\multirow{}{*}{Dialogue act} & 58.85 & 61.54 & 51.31 & 62.62 & 52.89 & 60.16 & 62.62 & \\\\\n",
      " & Discriminator\\tnote{4} &  & 50.78 & 58.28 & 48.38 & 57.97 & 48.76 & 57.24 & 57.97 & \\\\\n",
      " & Discriminator\\tnote{5} &  & 47.66 & 52.99 & 43.23 & 55.28 & 43.92 & 52.72 & 55.28 & \\\\\n",
      "\\midrule\n",
      "\\multirow{}{*}{\\textbf{CC}} & Generator\\tnote{1} &  &  &  &  &  &  &  &  & 16.15\\\\\n",
      "\\midrule\n",
      "\\multirow{}{*}{\\textbf{EPITOME}} & Generator\\tnote{1} &  &  &  &  &  &  &  &  & 35.78\\\\\n",
      " & Generator\\tnote{2} &  &  &  &  &  &  &  &  & 9.28\\\\\n",
      " & Discriminator\\tnote{3} & \\multirow{}{*}{Emotional reaction} & 45.09 & 72.81 & 49.59 & 71.21 & 46.29 & 70.97 & 71.21 & \\\\\n",
      " & Discriminator\\tnote{4} &  & 34.14 & 56.54 & 33.37 & 68.87 & 27.52 & 56.56 & 68.87 & \\\\\n",
      " & Discriminator\\tnote{5} &  & 23.00 & 47.61 & 33.33 & 69.00 & 27.22 & 56.34 & 69.00 & \\\\\n",
      " & Discriminator\\tnote{3} & \\multirow{}{*}{Exploration} & 27.93 & 70.20 & 33.33 & 83.79 & 30.39 & 76.40 & 83.79 & \\\\\n",
      " & Discriminator\\tnote{4} &  & 27.92 & 70.19 & 33.28 & 83.66 & 30.37 & 76.33 & 83.66 & \\\\\n",
      " & Discriminator\\tnote{5} &  & 27.93 & 70.20 & 33.33 & 83.79 & 30.39 & 76.40 & 83.79 & \\\\\n",
      " & Discriminator\\tnote{3} & \\multirow{}{*}{Interpretation} & 36.91 & 54.57 & 38.02 & 53.83 & 36.51 & 52.85 & 53.83 & \\\\\n",
      " & Discriminator\\tnote{4} &  & 32.81 & 48.37 & 33.81 & 53.05 & 31.07 & 47.58 & 53.05 & \\\\\n",
      " & Discriminator\\tnote{5} &  & 18.29 & 30.10 & 33.33 & 54.86 & 23.62 & 38.87 & 54.86 & \\\\\n",
      " & Explanations & \\multirow{}{*}{Emotional reaction} &  &  &  &  &  &  &  & 8.83\\\\\n",
      " & Explanations & \\multirow{}{*}{Exploration} &  &  &  &  &  &  &  & 9.41\\\\\n",
      " & Explanations & \\multirow{}{*}{Interpretation} &  &  &  &  &  &  &  & 7.84\\\\\n",
      "\\midrule\n"
     ]
    }
   ],
   "source": [
    "for data_set, data_set_id in ID_MAPPING.items():\n",
    "    first_data_set = True\n",
    "    for task, scores in results[data_set].items():\n",
    "        first_task = True\n",
    "        if task == 'generator':\n",
    "            for note, score in scores.items():\n",
    "                if score is not None:\n",
    "                    print(\n",
    "                        f'\\\\multirow{{}}{{*}}{{\\\\textbf{{{data_set_id}}}}}' if first_data_set else '',\n",
    "                        f'Generator\\\\tnote{{{\"2\" if note == \"conditioned\" else \"1\"}}}',\n",
    "                        '',\n",
    "                        '', '', '', '', '', '', '', \n",
    "                        f'{score[0]:.2f}',\n",
    "                        sep=' & ',\n",
    "                        end='\\\\\\\\\\n'\n",
    "                    )\n",
    "                    first_data_set = False\n",
    "                    first_task = False\n",
    "        elif task == 'discriminator':\n",
    "            for _, labels in scores.items():\n",
    "                if labels is not None:\n",
    "                    for label, approaches in labels.items():\n",
    "                        first_label = True\n",
    "                        if approaches is not None:\n",
    "                            for approach, score in approaches.items():\n",
    "                                if score is not None:\n",
    "                                    print(\n",
    "                                        f'\\\\multirow{{}}{{*}}{{\\\\textbf{{{data_set_id}}}}}' if first_data_set else '',\n",
    "                                        f'Discriminator\\\\tnote{{{\"3\" if approach == \"posterior\" else (\"4\" if approach == \"infilling\" else \"5\")}}}',\n",
    "                                        f'\\\\multirow{{}}{{*}}{{{label.capitalize().replace(\"_\", \" \")}}}' if first_label else '',\n",
    "                                        f'{100*score[\"macro avg\"][\"precision\"]:.2f}', f'{100*score[\"weighted avg\"][\"precision\"]:.2f}', f'{100*score[\"macro avg\"][\"recall\"]:.2f}', f'{100*score[\"weighted avg\"][\"recall\"]:.2f}', f'{100*score[\"macro avg\"][\"f1-score\"]:.2f}', f'{100*score[\"weighted avg\"][\"f1-score\"]:.2f}', f'{100*score[\"accuracy\"]:.2f}',\n",
    "                                        '',\n",
    "                                        sep=' & ',\n",
    "                                        end='\\\\\\\\\\n'\n",
    "                                    )\n",
    "                                    first_data_set = False\n",
    "                                    first_task = False\n",
    "                                    first_label = False\n",
    "        else:\n",
    "            if scores is not None:\n",
    "                for _, labels in scores.items():\n",
    "                    if labels is not None:\n",
    "                        for label, score in labels.items():\n",
    "                            first_label = True\n",
    "                            if score is not None:\n",
    "                                print(\n",
    "                                    f'\\\\multirow{{}}{{*}}{{\\\\textbf{{{data_set_id}}}}}' if first_data_set else '',\n",
    "                                    'Explanations',\n",
    "                                    f'\\\\multirow{{}}{{*}}{{{label.capitalize().replace(\"_\", \" \")}}}' if first_label else '',\n",
    "                                    '', '', '', '', '', '', '', \n",
    "                                    f'{score[0]:.2f}',\n",
    "                                    sep=' & ',\n",
    "                                    end='\\\\\\\\\\n'\n",
    "                                )\n",
    "                                first_data_set = False\n",
    "                                first_task = False\n",
    "    print('\\\\midrule')"
   ]
  },
  {
   "cell_type": "code",
   "execution_count": null,
   "metadata": {},
   "outputs": [],
   "source": []
  }
 ],
 "metadata": {
  "kernelspec": {
   "display_name": "Python 3 (ipykernel)",
   "language": "python",
   "name": "python3"
  },
  "language_info": {
   "codemirror_mode": {
    "name": "ipython",
    "version": 3
   },
   "file_extension": ".py",
   "mimetype": "text/x-python",
   "name": "python",
   "nbconvert_exporter": "python",
   "pygments_lexer": "ipython3",
   "version": "3.10.8"
  }
 },
 "nbformat": 4,
 "nbformat_minor": 4
}
